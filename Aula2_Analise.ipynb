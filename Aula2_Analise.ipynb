{
 "cells": [
  {
   "cell_type": "markdown",
   "metadata": {},
   "source": [
    "# Análise de tempo de execução\n",
    "\n",
    "Uma maneira simplificada de analisar o tempo de execução de um algoritmo é contar o número de operações realizadas.\n",
    "\n",
    "**Problema (Exp):**\n",
    "\n",
    "- Entrada: Dois inteiros $n$ e $p \\geq 0$\n",
    "- Saída: $n^p$"
   ]
  },
  {
   "cell_type": "code",
   "execution_count": 30,
   "metadata": {},
   "outputs": [],
   "source": [
    "def potencia(n, p):\n",
    "    r = 1 # 2 operacoes (acessar 1, =)\n",
    "    i = 0 # 2 operacoes (acessar 0, =)\n",
    "    while(i < p): # 3 operacao (ler i, ler p e comparar)\n",
    "        r = r*n # 4 operacoes (ler r, ler n, =, *)\n",
    "        i = i+1 # 3 operacoes (ler i, +, acessar 1,=)\n",
    "    return r"
   ]
  },
  {
   "cell_type": "code",
   "execution_count": 31,
   "metadata": {},
   "outputs": [
    {
     "data": {
      "text/plain": [
       "16"
      ]
     },
     "execution_count": 31,
     "metadata": {},
     "output_type": "execute_result"
    }
   ],
   "source": [
    "potencia(2,4)"
   ]
  },
  {
   "cell_type": "markdown",
   "metadata": {},
   "source": [
    "O while roda para i=0, 1, 2,..., p-1.\n",
    "\n",
    "Ou seja, \n",
    "- i<p: $p+1$ vezes - $3(p+1)$ operações\n",
    "- r = r*n: $p$ vezes - $4p$ operações\n",
    "- i = i+1: $p$ vezes - $4p$ operações\n",
    "\n",
    "Somando com as operações de r=1 e i=0, o número de operações total é\n",
    "$$\n",
    "4+3(p+1)+4p+4p = 11p+7.\n",
    "$$\n",
    "\n",
    "Vamos conferir:"
   ]
  },
  {
   "cell_type": "code",
   "execution_count": 32,
   "metadata": {},
   "outputs": [],
   "source": [
    "def potenciaOperacoes(n, p):\n",
    "    r = 1 # 2 operacoes (acessar 1, =)\n",
    "    i = 0 # 2 operacoes (acessar 0, =)\n",
    "    op = 7\n",
    "    while(i < p): # 3 operacao (ler i, ler p e comparar)\n",
    "        r = r*n # 4 operacoes (ler r, ler n, =, *)\n",
    "        i = i+1 # 4 operacoes (ler i, +, acessar 1, =)\n",
    "        op += 11\n",
    "    print('Numero de operacoes '+str(op))\n",
    "    print(str(11*p+7))\n",
    "    return r"
   ]
  },
  {
   "cell_type": "code",
   "execution_count": 33,
   "metadata": {},
   "outputs": [
    {
     "name": "stdout",
     "output_type": "stream",
     "text": [
      "Numero de operacoes 337\n",
      "337\n"
     ]
    },
    {
     "data": {
      "text/plain": [
       "1073741824"
      ]
     },
     "execution_count": 33,
     "metadata": {},
     "output_type": "execute_result"
    }
   ],
   "source": [
    "potenciaOperacoes(2,30)"
   ]
  },
  {
   "cell_type": "code",
   "execution_count": 36,
   "metadata": {},
   "outputs": [],
   "source": [
    "def potencia2(n, p):\n",
    "    r = 1 # 2 operacoes (acessar 1, =)\n",
    "    op = 5\n",
    "    while(p > 0): # 3 operacao (ler i, ler p e comparar)\n",
    "        r = r*n # 4 operacoes (ler r, ler n, =, *)\n",
    "        p = p-1 # 4 operacoes (ler p, -, 1, =)\n",
    "        op += 11\n",
    "    print(op)\n",
    "    return r"
   ]
  },
  {
   "cell_type": "code",
   "execution_count": 37,
   "metadata": {},
   "outputs": [
    {
     "name": "stdout",
     "output_type": "stream",
     "text": [
      "335\n"
     ]
    },
    {
     "data": {
      "text/plain": [
       "1073741824"
      ]
     },
     "execution_count": 37,
     "metadata": {},
     "output_type": "execute_result"
    }
   ],
   "source": [
    "potencia2(2,30)"
   ]
  },
  {
   "cell_type": "markdown",
   "metadata": {},
   "source": [
    "Temos apenas 2 operações a menos!\n",
    "\n",
    "*Exercício:* É possível dizer que se rodarmos na mesma máquina e na mesma entrada, o primeiro método vai demorar mais do que o segundo (mesmo que por uma quantidade insignificante de tempo)? \n",
    "\n",
    "*Exercício:* Qual o tamanho da entrada para o **Problema (Exp)**? O algoritmo em potencia(n,p) é considerado eficiente (ou seja, o número de operações é limitado por um polinômio no tamanho da entrada)?\n"
   ]
  },
  {
   "cell_type": "markdown",
   "metadata": {},
   "source": [
    "Quando analisamos algoritmos, consideramos apenas o termo mais significativo no número de operações e ignoramos constantes multiplicativas.\n",
    "\n",
    "Por exemplo, para $11p+7$, estamos apenas interessados no $p$.\n",
    "\n",
    "Assim, ao compararmos $11p+7$ e $11p+5$, consideramos que os tempos de execução são equivalentes.\n",
    "\n",
    "Isso quer dizer que nesse tipo de análise um algoritmo que roda em tempo $p$ e um que roda em tempo $11p$ são considerados igualmente eficientes. \n",
    "\n",
    "Isso parece muito injusto. O que você acha?"
   ]
  },
  {
   "cell_type": "code",
   "execution_count": 54,
   "metadata": {},
   "outputs": [
    {
     "data": {
      "text/plain": [
       "[<matplotlib.lines.Line2D at 0x27b0a1630>]"
      ]
     },
     "execution_count": 54,
     "metadata": {},
     "output_type": "execute_result"
    },
    {
     "data": {
      "image/png": "[encoded data removed]",
      "text/plain": [
       "<Figure size 432x288 with 1 Axes>"
      ]
     },
     "metadata": {},
     "output_type": "display_data"
    }
   ],
   "source": [
    "import numpy as np\n",
    "import matplotlib.pyplot as plt\n",
    "%matplotlib inline\n",
    "x = np.arange(100000,1000000,1000)\n",
    "y1 = x\n",
    "y2 = 11*x\n",
    "plt.plot(x,y1,'r')\n",
    "plt.plot(x,y2,'b')"
   ]
  },
  {
   "cell_type": "markdown",
   "metadata": {},
   "source": [
    "Vamos ver agora um outro método. \n",
    "\n",
    "Assuma que $p = 2^k$ para algum $k$ e $p\\geq 1$:"
   ]
  },
  {
   "cell_type": "code",
   "execution_count": 41,
   "metadata": {},
   "outputs": [],
   "source": [
    "def potencia3(n,p):\n",
    "    r = n\n",
    "    i = 1\n",
    "    op = 7\n",
    "    while(i<p):\n",
    "        r = r*r\n",
    "        i = i*2\n",
    "        op += 11\n",
    "    print(op)\n",
    "    return r"
   ]
  },
  {
   "cell_type": "markdown",
   "metadata": {},
   "source": [
    "Vamos comparar como potencia2:"
   ]
  },
  {
   "cell_type": "code",
   "execution_count": 42,
   "metadata": {},
   "outputs": [
    {
     "name": "stdout",
     "output_type": "stream",
     "text": [
      "62\n",
      "357\n"
     ]
    },
    {
     "data": {
      "text/plain": [
       "4294967296"
      ]
     },
     "execution_count": 42,
     "metadata": {},
     "output_type": "execute_result"
    }
   ],
   "source": [
    "potencia3(2,32)\n",
    "potencia2(2,32)"
   ]
  },
  {
   "cell_type": "markdown",
   "metadata": {},
   "source": [
    "Quantas vezes o laço roda?\n",
    "\n",
    "$i$ tem valores $1$, $2$, $4$,...$2^k = p$ "
   ]
  },
  {
   "cell_type": "code",
   "execution_count": 43,
   "metadata": {},
   "outputs": [],
   "source": [
    "def potencia3Laco(n,p):\n",
    "    r = n\n",
    "    i = 1\n",
    "    laco = 0\n",
    "    while(i<p):\n",
    "        r = r*r\n",
    "        i = i*2\n",
    "        laco = laco+1\n",
    "        print(i)\n",
    "    print('laco='+str(laco))\n",
    "    return r"
   ]
  },
  {
   "cell_type": "code",
   "execution_count": 44,
   "metadata": {},
   "outputs": [
    {
     "name": "stdout",
     "output_type": "stream",
     "text": [
      "2\n",
      "4\n",
      "8\n",
      "16\n",
      "32\n",
      "laco=5\n"
     ]
    },
    {
     "data": {
      "text/plain": [
       "4294967296"
      ]
     },
     "execution_count": 44,
     "metadata": {},
     "output_type": "execute_result"
    }
   ],
   "source": [
    "potencia3Laco(2,32)"
   ]
  },
  {
   "cell_type": "markdown",
   "metadata": {},
   "source": [
    "$32=2^k=p$ e note que $k = \\lg p$. (Usamos $\\lg$ para abreviar $\\log_2$.)\n",
    " \n",
    "Ou seja, o laço roda $k-1$ vezes. \n",
    "\n",
    "O número total de operações é\n",
    "$$\n",
    "7 + 11(k-1) = 11\\lg p - 4\n",
    "$$\n",
    "\n",
    "Como isso se compara com potencia2?"
   ]
  },
  {
   "cell_type": "code",
   "execution_count": 55,
   "metadata": {},
   "outputs": [
    {
     "data": {
      "text/plain": [
       "[<matplotlib.lines.Line2D at 0x27b180c18>]"
      ]
     },
     "execution_count": 55,
     "metadata": {},
     "output_type": "execute_result"
    },
    {
     "data": {
      "image/png": "[encoded data removed]",
      "text/plain": [
       "<Figure size 432x288 with 1 Axes>"
      ]
     },
     "metadata": {},
     "output_type": "display_data"
    }
   ],
   "source": [
    "x = np.arange(10,1000000,100)\n",
    "y1 = 11*x+5\n",
    "y2 = 11*np.log2(x)-4\n",
    "plt.plot(x,y1,'r')\n",
    "plt.plot(x,y2,'b')"
   ]
  },
  {
   "cell_type": "markdown",
   "metadata": {},
   "source": [
    "Como você pode ver a diferença é muito mais drástica!"
   ]
  },
  {
   "cell_type": "markdown",
   "metadata": {},
   "source": [
    "# Funções assintóticas"
   ]
  },
  {
   "cell_type": "markdown",
   "metadata": {},
   "source": [
    "Quanto consideramos uma função f <= uma função g?\n",
    "\n",
    "Bom, já dissemos acima que consideramos apenas o termo mais significativo no número de operações e ignoramos constantes multiplicativas.\n",
    "\n",
    "Como formalizar essa idéia? Vamos considerar funções $f(n)$ e $g(n)$.\n",
    "\n",
    "Tentativa 1) Existe uma constante $A$ tal que $f(n) \\leq A\\cdot g(n)$\n",
    "\n",
    "Funciona?"
   ]
  },
  {
   "cell_type": "code",
   "execution_count": 92,
   "metadata": {},
   "outputs": [
    {
     "data": {
      "text/plain": [
       "[<matplotlib.lines.Line2D at 0x27c82c358>]"
      ]
     },
     "execution_count": 92,
     "metadata": {},
     "output_type": "execute_result"
    },
    {
     "data": {
      "image/png": "[encoded data removed]",
      "text/plain": [
       "<Figure size 432x288 with 1 Axes>"
      ]
     },
     "metadata": {},
     "output_type": "display_data"
    }
   ],
   "source": [
    "x = np.arange(1,50)\n",
    "f = x+10000;\n",
    "g = x*x;\n",
    "plt.plot(x,f,'r')\n",
    "plt.plot(x,g,'b')"
   ]
  },
  {
   "cell_type": "markdown",
   "metadata": {},
   "source": [
    "Tentativa 2) Existem constantes $A$ e $N_0$ tais que $f(n) \\leq A\\cdot g(n)$ para todo $n\\geq N_0$.\n",
    "\n",
    "## Definição: $O$ (\"<=\" para funções)\n",
    "Dizemos que uma função $f(n)$ é $O(g(n))$ se  \n",
    "\n",
    " Existem constantes  $A$ e $N_0$ tais que  $f(n) \\leq A\\cdot g(n)$ para todo $n\\geq N_0$."
   ]
  },
  {
   "cell_type": "markdown",
   "metadata": {},
   "source": [
    "Exemplo: $f(n) = n + 1000$ e $g(n) = n^2$"
   ]
  },
  {
   "cell_type": "markdown",
   "metadata": {},
   "source": [
    "## Definição: $\\Omega$ (\">=\" para funções)\n",
    "Dizemos que uma função $f(n)$ é $\\Theta(g(n))$ se  \n",
    "\n",
    " Existem constantes  $A$ e $N_0$ tais que  $A\\cdot g(n) \\leq f(n)$ para todo $n\\geq N_0$."
   ]
  },
  {
   "cell_type": "markdown",
   "metadata": {},
   "source": [
    "## Definição: $\\Theta$ (\"=\" para funções)\n",
    "Dizemos que uma função $f(n)$ é $\\Theta(g(n))$ se  \n",
    "\n",
    " Existem constantes  $A$ , $B$ e $N_0$ tais que  $A\\cdot g(n) \\leq f(n) \\leq B\\cdot g(n)$ para todo $n\\geq N_0$.\n"
   ]
  },
  {
   "cell_type": "code",
   "execution_count": 98,
   "metadata": {},
   "outputs": [],
   "source": [
    "def calcula(n):\n",
    "    if n<=1:\n",
    "        return 1\n",
    "    else:\n",
    "        return calcula(n/2)+calcula(n/2)+calcula(n/2)+3"
   ]
  },
  {
   "cell_type": "code",
   "execution_count": 124,
   "metadata": {},
   "outputs": [],
   "source": [
    "def calculaOperacoes(n):\n",
    "    if n<=1:\n",
    "        return 1;\n",
    "    else:\n",
    "        return calculaOperacoes(n/2)+calculaOperacoes(n/2)+calculaOperacoes(n/2)+1"
   ]
  },
  {
   "cell_type": "code",
   "execution_count": null,
   "metadata": {},
   "outputs": [],
   "source": []
  },
  {
   "cell_type": "markdown",
   "metadata": {},
   "source": [
    "## Funções e relações bastante usadas"
   ]
  },
  {
   "cell_type": "markdown",
   "metadata": {},
   "source": [
    "# Exercícios"
   ]
  },
  {
   "cell_type": "code",
   "execution_count": null,
   "metadata": {},
   "outputs": [],
   "source": []
  }
 ],
 "metadata": {
  "kernelspec": {
   "display_name": "Python 3",
   "language": "python",
   "name": "python3"
  },
  "language_info": {
   "codemirror_mode": {
    "name": "ipython",
    "version": 3
   },
   "file_extension": ".py",
   "mimetype": "text/x-python",
   "name": "python",
   "nbconvert_exporter": "python",
   "pygments_lexer": "ipython3",
   "version": "3.6.5"
  }
 },
 "nbformat": 4,
 "nbformat_minor": 2
}
