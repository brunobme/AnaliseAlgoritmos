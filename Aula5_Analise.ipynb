{
 "cells": [
  {
   "cell_type": "markdown",
   "metadata": {},
   "source": [
    "# O Problema da Mochila Fracionária/Contínua\n",
    "\n",
    "- Temos $n$ itens com pesos positivos $w_1,\\dotsc, w_n \\in\\mathbf{R}$ e valores positivos $v_1,\\dotsc,v_n \\in\\mathbf{R}$\n",
    "- Temos uma capacidade $W\\in\\mathbf{R}$\n",
    "- O objetivo é escolher $x_1,\\dotsc,x_n$ de cada item de modo que cada $0\\leq x_i \\leq w_i$ e\n",
    "$$x_1+x_2\\cdots+x_n leq W,$$\n",
    "ou seja, a capacidade não é excedida de modo a maximizar $(x_1/w_1)v_1+(x_2/w_2)v_2+\\dotsc+(x_n/w_n)v_n$\n",
    "\n",
    "Em resumo:\n",
    "Problema (FRAC-MOCHILA):\n",
    "* Entrada: um número inteiro $n\\geq 1$, um número real $W$, $w_1,\\dotsc, w_n \\in\\mathbf{R}$ positivos, $v_1,\\dotsc,v_n \\in\\mathbf{R}$ positivos.\n",
    "* Saída: $x_1,\\dotsc,x_n\\in\\mathbf{R}$ tais que $0\\leq x_i \\leq w_i$ para todo $i$, $x_1+x_2+\\cdots+x_n\\leq W$, maximizando $(x_1/w_1)v_1+(x_2/w_2)v_2+\\dotsc+(x_n/w_n)v_n$"
   ]
  },
  {
   "cell_type": "markdown",
   "metadata": {},
   "source": [
    "# Que estratégia utilizar para resolver esse problema?\n",
    "\n",
    "## Algoritmo guloso\n",
    "Um algoritmo guloso procura construir uma solução de modo que em cada passo tentamos alcançar o maior lucro/benefício possível.\n",
    "\n",
    "# Tentativa 1: Em cada passo escolher o item $i$ de maior valor e colocar o máximo possível em $x_i$.\n",
    "\n",
    "Será que funciona?\n",
    "- $n = 3$, $W = 10$\n",
    "- $w_1 = 100$ e $v_1 = 100$ (mais valioso)\n",
    "- $w_2 = 5$ e $v_2 = 50$\n",
    "- $w_3 = 3$ e $v_3 = 15$\n",
    "\n",
    "Essa estratégia nos diria para colocar $x_1 = 10$ e o nosso lucro é $(x_1/w_1)v_1 = 10$.\n",
    "Essa é a solução ótima?\n",
    "\n",
    "# Tentativa 2: Em cada passo escolher o item $i$ de maior $v_i/w_i$ e colocar o máximo possível em $x_i$.\n",
    "\n",
    "Defina $r_i := v_i/w_i$. Chamamos $r_i$ de relação benefício-custo de $i$.\n",
    "\n",
    "Ou seja, nesta estratégia consideramos os itens pela sua relação benefício-custo.\n",
    "\n",
    "O item de melhor relação benefício-custo é o item $2$ com $r_2 = 50/5 = 10$, seguido do item $3$ com $r_3 = 15/3 = 5$. O item $1$ é o de pior benefício-custo: $r_1 = 100/100=1$.\n",
    "\n",
    "Assim, definimos \n",
    "- $x_2 = 1$ -- utilizando $x_2w_2=5$ de espaço e $50$ de lucro.\n",
    "- $x_3 = 1$ -- utilizando $x_3w_3=3$ de espaço e $15$ de lucro.\n",
    "- $x_1 = 0.02$ -- utilizando $x_1w_1=2$ de espaço e $0.02*100=2$ de lucro\n",
    "\n",
    "Nosso lucro total é $50+15+2=67$."
   ]
  },
  {
   "cell_type": "code",
   "execution_count": 58,
   "metadata": {},
   "outputs": [],
   "source": [
    "def ratio(item):\n",
    "    return item[0]/item[1]\n",
    "\n",
    "def frac_mochila(itens, W):\n",
    "    n = len(itens)\n",
    "    print(\"itens \"+str(n)+\" capacidade \"+str(W))\n",
    "    itensSorted = sorted(itens, key=ratio)    \n",
    "    for i in itensSorted:\n",
    "        print(str(i[0])+\" e valor \"+str(i[1])+\" razao \"+str(i[1]/i[0]))\n",
    "    "
   ]
  },
  {
   "cell_type": "code",
   "execution_count": 59,
   "metadata": {},
   "outputs": [
    {
     "name": "stdout",
     "output_type": "stream",
     "text": [
      "itens 3 capacidade 10\n",
      "5 e valor 50 razao 10.0\n",
      "3 e valor 15 razao 5.0\n",
      "100 e valor 100 razao 1.0\n"
     ]
    }
   ],
   "source": [
    "frac_mochila(((100,100),(5,50),(3,15)), 10)"
   ]
  },
  {
   "cell_type": "markdown",
   "metadata": {},
   "source": [
    "# Análise do tempo de execução\n",
    "\n",
    "Tempo para ordenar os itens pela sua relação benefício-custo -- $O(n \\lg n)$\n",
    "\n",
    "Tempo para percorrer os itens e definir $x_i$: $O(n)$\n",
    "\n",
    "Tempo de execução: $O(n\\lg n)$"
   ]
  },
  {
   "cell_type": "markdown",
   "metadata": {},
   "source": [
    "# Como mostrar que a Tentativa 2 dá uma solução ótima?\n",
    "\n",
    "Suponha que os itens já se encontram em ordem de melhor relação benefício-custo. Ou seja, $r_1\\geq r_2\\geq\\cdots\\geq r_n$.\n",
    "\n",
    "Podemos assumir que $W < \\sum_{i=1}^n w_i$. Caso contrário, a Tentativa 2, nos diz para selecionar todos os itens, o que é a solução ótima.\n",
    "\n",
    "Afirmação 1: Toda solução ótima tem $\\sum_{i=1}^n x_i = W$\n",
    "\n",
    "- Seja $x_1\\dotsc, x_n$ a solução obtida pela estratégia gulosa na Tentativa 2.\n",
    "- Queremos comparar $x_1,\\dotsc, x_n$ com uma solução ótima. Mas podem existir muitas soluções ótimas.\n",
    "- Seja $y_1,\\dotsc, y_n$ uma solução ótima que maximiza $i$ tal que $x_1 = y_1$, $x_2=y_2$,..., $x_{i-1}=y_{i-1}$.\n",
    "- Se $i=n+1$, todos os valores são iguais e nossa solução $x_1,\\dotsc, x_n$ é ótima.\n",
    "- Suponha então $i<n+1$. Ou seja, $x_i\\neq y_i$.\n",
    "- Como $x_i$ é escolhido o maior possível $x_i>y_i$\n",
    "- Queremos modificar a solução $y$ de maneira que continue ótima, mas com $x_i=y_i$. Isso seria uma contradição com a nossa escolha de $y$ e, portanto, temos $i=n+1$. \n",
    "\n",
    "\n",
    "1. Defina $z_1 = y_1$, $z_2=y_2$, $\\dotsc$, $z_{i-1}=y_{i-1}$. Defina $z_i=x_i$.\n",
    "2. Defina $S = x_i-y_i$.\n",
    "3. Para cada $j>i$, se $S=0$ defina $z_j=y_j$ e, se $S\\neq 0$, faça \n",
    "- se $y_j<S$, $z_j=0$ e $S = S-y_j$.\n",
    "- se $y_j\\geq S$, defina $z_j=y_j-S$ e $S = 0$.\n",
    "\n",
    "Terminamos com $S=0$ pois $y_{i+1}+\\cdots+y_n\\geq x_i-y_i$ (Exercício:Prove). \n",
    "\n",
    "\n",
    "\n",
    "mudamos um valor $\\epsilon$ de uma variável $y_j$ para $y_i$ com $j>i$, então $r_j\\leq r_i$ e, portanto, $\\sum y_ir_i$ não diminui! Portanto, a nova solução $y$ é ótima e tem $y_i=x_i$.\n",
    "\n",
    "\n",
    "Exercício: Mostrar um exemplo com mais de uma solução ótima.\n"
   ]
  },
  {
   "cell_type": "markdown",
   "metadata": {},
   "source": [
    "# O Problema da Cobertura de Conjuntos\n",
    "\n",
    "Problema (SET-COVER):\n",
    "\n",
    "Entrada: um inteiro $n$, conjuntos $S_1,\\dotsc, S_m \\subseteq\\{1,\\dotsc,n\\}$ tais que $S_1\\cup S_2\\cup\\cdots\\cup S_m = \\{1,\\dotsc, n\\}$\n",
    "\n",
    "Saída: Um conjunto $I\\subseteq\\{1,\\dotsc,m\\}$ de menor tamanho possível de modo que $\\bigcup_{i\\in I}S_i = \\{1,\\dotsc, n\\}$\n",
    "\n",
    "**Notação:** Ao escolhermos um conjunto $S_i$ como parte de nossa solução, dizemos que os elementos de $S_i$ estão **cobertos**. Ou seja, o objetivo é escolher o menor número de conjuntos possível de modo a cobrir todos os elementos. Os conjuntos que escolhemos para $I$ formam a **cobertura**. Ou seja, procuramos uma cobertura de tamanho mínimo."
   ]
  },
  {
   "cell_type": "markdown",
   "metadata": {},
   "source": [
    "Não se conhece nenhum algoritmo eficiente para este problema!\n",
    "\n",
    "## Uma estratégia gulosa\n",
    "\n",
    "Repita até que todos os elementos de $\\{1,\\dotsc, n\\}$ estejam cobertos:\n",
    "\n",
    "    Escolha o conjunto $S_i$ com o maior número de elementos ainda não cobertos\n",
    "\n",
    "Exercício: Implemente a estratégia acima. Qual o tempo de execução?\n",
    "\n",
    "Exercício: Dê um exemplo onde esta estratégia não devolve a menor cobertura.\n",
    "\n",
    " "
   ]
  },
  {
   "cell_type": "markdown",
   "metadata": {},
   "source": [
    " "
   ]
  }
 ],
 "metadata": {
  "kernelspec": {
   "display_name": "Python 3",
   "language": "python",
   "name": "python3"
  },
  "language_info": {
   "codemirror_mode": {
    "name": "ipython",
    "version": 3
   },
   "file_extension": ".py",
   "mimetype": "text/x-python",
   "name": "python",
   "nbconvert_exporter": "python",
   "pygments_lexer": "ipython3",
   "version": "3.6.5"
  }
 },
 "nbformat": 4,
 "nbformat_minor": 2
}
